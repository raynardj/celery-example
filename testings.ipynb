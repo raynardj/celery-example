{
 "cells": [
  {
   "cell_type": "markdown",
   "metadata": {},
   "source": [
    "# Celery Testings"
   ]
  },
  {
   "cell_type": "markdown",
   "metadata": {},
   "source": [
    "* Please follow the steps from the [README.md](README.md) instructions, first.\n",
    "* Edit the [tasks.py](tasks.py), this will contain the python tasks (decorated functions)"
   ]
  },
  {
   "cell_type": "code",
   "execution_count": 1,
   "metadata": {},
   "outputs": [],
   "source": [
    "from tasks import add, print_pid"
   ]
  },
  {
   "cell_type": "markdown",
   "metadata": {},
   "source": [
    "### Queue"
   ]
  },
  {
   "cell_type": "code",
   "execution_count": 2,
   "metadata": {},
   "outputs": [],
   "source": [
    "for i in range(100):\n",
    "    result = add.delay(40,2)"
   ]
  },
  {
   "cell_type": "markdown",
   "metadata": {},
   "source": [
    "### How works are distributed among the workers"
   ]
  },
  {
   "cell_type": "code",
   "execution_count": 2,
   "metadata": {},
   "outputs": [],
   "source": [
    "results_a = list(print_pid.delay(i) for i in range(50))"
   ]
  },
  {
   "cell_type": "code",
   "execution_count": 3,
   "metadata": {},
   "outputs": [],
   "source": [
    "results = list(a.get() for a in results_a)"
   ]
  },
  {
   "cell_type": "markdown",
   "metadata": {},
   "source": [
    "There is no duplicate id (key ) in the following dictionary"
   ]
  },
  {
   "cell_type": "code",
   "execution_count": 4,
   "metadata": {},
   "outputs": [
    {
     "data": {
      "text/plain": [
       "[{'0': 55518},\n",
       " {'1': 55504},\n",
       " {'2': 55519},\n",
       " {'3': 55505},\n",
       " {'4': 55518},\n",
       " {'5': 55504},\n",
       " {'6': 55517},\n",
       " {'7': 55504},\n",
       " {'8': 55518},\n",
       " {'9': 55505},\n",
       " {'10': 55519},\n",
       " {'11': 55504},\n",
       " {'12': 55505},\n",
       " {'13': 55518},\n",
       " {'14': 55519},\n",
       " {'15': 55504},\n",
       " {'16': 55518},\n",
       " {'17': 55505},\n",
       " {'18': 55519},\n",
       " {'19': 55504},\n",
       " {'20': 55518},\n",
       " {'21': 55505},\n",
       " {'22': 55519},\n",
       " {'23': 55504},\n",
       " {'24': 55518},\n",
       " {'25': 55505},\n",
       " {'26': 55519},\n",
       " {'27': 55504},\n",
       " {'28': 55518},\n",
       " {'29': 55505},\n",
       " {'30': 55519},\n",
       " {'31': 55504},\n",
       " {'32': 55518},\n",
       " {'33': 55505},\n",
       " {'34': 55519},\n",
       " {'35': 55504},\n",
       " {'36': 55518},\n",
       " {'37': 55505},\n",
       " {'38': 55519},\n",
       " {'39': 55504},\n",
       " {'40': 55518},\n",
       " {'41': 55505},\n",
       " {'42': 55519},\n",
       " {'43': 55504},\n",
       " {'44': 55518},\n",
       " {'45': 55505},\n",
       " {'46': 55519},\n",
       " {'47': 55504},\n",
       " {'48': 55518},\n",
       " {'49': 55505}]"
      ]
     },
     "execution_count": 4,
     "metadata": {},
     "output_type": "execute_result"
    }
   ],
   "source": [
    "results"
   ]
  },
  {
   "cell_type": "code",
   "execution_count": null,
   "metadata": {},
   "outputs": [],
   "source": []
  }
 ],
 "metadata": {
  "kernelspec": {
   "display_name": "Python 3",
   "language": "python",
   "name": "python3"
  },
  "language_info": {
   "codemirror_mode": {
    "name": "ipython",
    "version": 3
   },
   "file_extension": ".py",
   "mimetype": "text/x-python",
   "name": "python",
   "nbconvert_exporter": "python",
   "pygments_lexer": "ipython3",
   "version": "3.7.4"
  }
 },
 "nbformat": 4,
 "nbformat_minor": 2
}
